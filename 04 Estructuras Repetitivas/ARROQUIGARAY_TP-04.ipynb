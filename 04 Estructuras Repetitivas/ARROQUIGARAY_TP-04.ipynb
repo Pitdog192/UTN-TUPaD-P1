{
 "cells": [
  {
   "cell_type": "markdown",
   "id": "2d71a0b4",
   "metadata": {},
   "source": [
    "ACTIVIDAD 1\n",
    "Crea un programa que imprima en pantalla todos los números enteros desde 0 hasta 100 (incluyendo ambos extremos), en orden creciente, mostrando un número por línea."
   ]
  },
  {
   "cell_type": "code",
   "execution_count": null,
   "id": "26a15001",
   "metadata": {},
   "outputs": [],
   "source": [
    "count = 0\n",
    "for count in range(0, 101):\n",
    "    print(count)"
   ]
  },
  {
   "cell_type": "markdown",
   "id": "6e7e63f5",
   "metadata": {},
   "source": [
    "ACTIVIDAD 2\n",
    "Desarrolla un programa que solicite al usuario un número entero y determine la cantidad de dígitos que contiene."
   ]
  },
  {
   "cell_type": "code",
   "execution_count": 3,
   "id": "c155e0ab",
   "metadata": {},
   "outputs": [
    {
     "name": "stdout",
     "output_type": "stream",
     "text": [
      "5\n"
     ]
    }
   ],
   "source": [
    "entero = int(input(\"Introduce un número entero: \"))\n",
    "contador = 0\n",
    "while entero > 0:\n",
    "    entero = entero // 10\n",
    "    contador += 1\n",
    "print(contador)"
   ]
  },
  {
   "cell_type": "markdown",
   "id": "b0531011",
   "metadata": {},
   "source": [
    "ACTIVIDAD 3\n",
    "Escribe un programa que sume todos los números enteros comprendidos entre dos valores dados por el usuario, excluyendo esos dos valores."
   ]
  },
  {
   "cell_type": "code",
   "execution_count": 3,
   "id": "ad615653",
   "metadata": {},
   "outputs": [
    {
     "name": "stdout",
     "output_type": "stream",
     "text": [
      "5\n"
     ]
    }
   ],
   "source": [
    "entero1 = int(input(\"Introduce el primer entero: \"))\n",
    "entero2 = int(input(\"Introduce el segundo entero: \"))\n",
    "contador = 0 \n",
    "for i in range(entero1, entero2):\n",
    "    if i > entero1 and i < entero2:\n",
    "        contador += i\n",
    "print(contador)"
   ]
  },
  {
   "cell_type": "markdown",
   "id": "ed43d20a",
   "metadata": {},
   "source": [
    "ACTIVIDAD 4\n",
    "Elabora un programa que permita al usuario ingresar números enteros y los sume en secuencia. El programa debe detenerse y mostrar el total acumulado cuando el usuario ingrese \n",
    "un 0."
   ]
  },
  {
   "cell_type": "code",
   "execution_count": 7,
   "id": "d65ac04f",
   "metadata": {},
   "outputs": [
    {
     "name": "stdout",
     "output_type": "stream",
     "text": [
      "20\n"
     ]
    }
   ],
   "source": [
    "entero = int(input(\"Introduce un número entero: , si es 0 finaliza la ejecución.\"))\n",
    "contador = 0\n",
    "while entero != 0:\n",
    "    contador += entero\n",
    "    entero = int(input(\"Introduce un número entero: , si es 0 finaliza la ejecución.\"))\n",
    "print(contador)"
   ]
  },
  {
   "cell_type": "markdown",
   "id": "3e414295",
   "metadata": {},
   "source": [
    "ACTIVIDAD 5\n",
    "Crea un juego en el que el usuario deba adivinar un número aleatorio entre 0 y 9. Al final, el programa debe mostrar cuántos intentos fueron necesarios para acertar el número."
   ]
  },
  {
   "cell_type": "code",
   "execution_count": null,
   "id": "25c8f66f",
   "metadata": {},
   "outputs": [
    {
     "name": "stdout",
     "output_type": "stream",
     "text": [
      "El número era:  8 se tardo  4 intentos en adivinar\n"
     ]
    }
   ],
   "source": [
    "from random import randint\n",
    "numero = int(input(\"Adivina el número entre 0 y 9\"))\n",
    "aleatorio = randint(0, 9)\n",
    "contador = 0 \n",
    "while numero != aleatorio:\n",
    "    contador += 1\n",
    "    numero = int(input(\"Adivina el número entre 0 y 9\"))\n",
    "print(\"El número era: \", aleatorio, \", se tardo \", contador, \"intentos en adivinar\")\n"
   ]
  },
  {
   "cell_type": "markdown",
   "id": "9bcd51e2",
   "metadata": {},
   "source": [
    "ACTIVIDAD 6\n",
    "Desarrolla un programa que imprima en pantalla todos los números pares comprendidos entre 0 y 100, en orden decreciente."
   ]
  },
  {
   "cell_type": "code",
   "execution_count": null,
   "id": "f85ae48c",
   "metadata": {},
   "outputs": [],
   "source": [
    "for i in range(100, 0, -1):\n",
    "    if i % 2 == 0:\n",
    "        print(i)"
   ]
  },
  {
   "cell_type": "markdown",
   "id": "4035ad88",
   "metadata": {},
   "source": [
    "ACTIVIDAD 7\n",
    "Crea un programa que calcule la suma de todos los números comprendidos entre 0 y un número entero positivo indicado por el usuario.\n"
   ]
  },
  {
   "cell_type": "code",
   "execution_count": 14,
   "id": "75c7a683",
   "metadata": {},
   "outputs": [
    {
     "name": "stdout",
     "output_type": "stream",
     "text": [
      "3\n"
     ]
    }
   ],
   "source": [
    "entero = int(input(\"Introduce un número entero: \"))\n",
    "contador = 0 \n",
    "for i in range(0, entero):\n",
    "    if i > 0 and i < entero:\n",
    "        contador += i\n",
    "print(contador)"
   ]
  },
  {
   "cell_type": "markdown",
   "id": "632e1815",
   "metadata": {},
   "source": [
    "ACTIVIDAD 8\n",
    "Escribe un programa que permita al usuario ingresar 100 números enteros. Luego, el programa debe indicar cuántos de estos números son pares, cuántos son impares, cuántos son \n",
    "negativos y cuántos son positivos. (Nota: para probar el programa puedes usar una cantidad menor, pero debe estar preparado para procesar 100 números con un solo cambio)."
   ]
  },
  {
   "cell_type": "code",
   "execution_count": null,
   "id": "558339b1",
   "metadata": {},
   "outputs": [
    {
     "name": "stdout",
     "output_type": "stream",
     "text": [
      "Pares: 2 , Impares: 3 , Negativos: 1 , Positivos: 4\n"
     ]
    }
   ],
   "source": [
    "pares = 0 \n",
    "impares = 0\n",
    "negativos = 0 \n",
    "positivos = 0\n",
    "for i in range(0, 100):\n",
    "    entero = int(input(\"Introduce un número entero: \"))\n",
    "    if entero % 2 == 0:\n",
    "        pares += 1\n",
    "    else:\n",
    "        impares += 1\n",
    "    if entero < 0:\n",
    "        negativos += 1\n",
    "    else :\n",
    "        positivos += 1\n",
    "print(\"Pares:\", pares, \", Impares:\", impares, \", Negativos:\", negativos, \", Positivos:\", positivos)"
   ]
  },
  {
   "cell_type": "markdown",
   "id": "ae73ebf0",
   "metadata": {},
   "source": [
    "ACTIVIDAD 9\n",
    "Elabora un programa que permita al usuario ingresar 100 números enteros y luego calcule la media de esos valores. (Nota: puedes probar el programa con una cantidad menor, pero debe poder procesar 100 números cambiando solo un valor)."
   ]
  },
  {
   "cell_type": "code",
   "execution_count": null,
   "id": "15898616",
   "metadata": {},
   "outputs": [
    {
     "name": "stdout",
     "output_type": "stream",
     "text": [
      "La media es:  3.0\n"
     ]
    }
   ],
   "source": [
    "sumatoria_enteros = 0\n",
    "end = 100 \n",
    "total = 0 \n",
    "for i in range(0, end):\n",
    "    entero = int(input(\"Introduce un número entero: \"))\n",
    "    sumatoria_enteros += entero\n",
    "    if i == end - 1:\n",
    "        total = sumatoria_enteros / (i + 1)\n",
    "print(\"La media es: \", total)\n"
   ]
  },
  {
   "cell_type": "markdown",
   "id": "477d45de",
   "metadata": {},
   "source": [
    "ACTIVIDAD 10\n",
    "Escribe un programa que invierta el orden de los dígitos de un número ingresado por el usuario. Ejemplo: si el usuario ingresa 547, el programa debe mostrar 745."
   ]
  },
  {
   "cell_type": "code",
   "execution_count": 31,
   "id": "0597e4c1",
   "metadata": {},
   "outputs": [
    {
     "name": "stdout",
     "output_type": "stream",
     "text": [
      "Número invertido: 321\n"
     ]
    }
   ],
   "source": [
    "numero = input(\"Ingresa un número: \")\n",
    "\n",
    "numero_invertido = \"\"\n",
    "\n",
    "for digito in numero:\n",
    "    numero_invertido = digito + numero_invertido\n",
    "\n",
    "print(\"Número invertido:\", numero_invertido)"
   ]
  }
 ],
 "metadata": {
  "kernelspec": {
   "display_name": "Python 3",
   "language": "python",
   "name": "python3"
  },
  "language_info": {
   "codemirror_mode": {
    "name": "ipython",
    "version": 3
   },
   "file_extension": ".py",
   "mimetype": "text/x-python",
   "name": "python",
   "nbconvert_exporter": "python",
   "pygments_lexer": "ipython3",
   "version": "3.13.2"
  }
 },
 "nbformat": 4,
 "nbformat_minor": 5
}
