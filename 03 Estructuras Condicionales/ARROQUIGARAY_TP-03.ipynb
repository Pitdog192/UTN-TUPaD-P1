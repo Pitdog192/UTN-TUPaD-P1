{
 "cells": [
  {
   "cell_type": "markdown",
   "id": "01f4bcc6",
   "metadata": {},
   "source": [
    "ACTIVIDAD 1"
   ]
  },
  {
   "cell_type": "code",
   "execution_count": 3,
   "id": "4d6ab88d",
   "metadata": {},
   "outputs": [
    {
     "name": "stdout",
     "output_type": "stream",
     "text": [
      "Es mayor de edad\n"
     ]
    }
   ],
   "source": [
    "# El programa pide la edad al usuario, si es mayor que 18 imprime \"Es mayor de edad\"\n",
    "edad = int(input(\"Ingrese su edad: \"))\n",
    "if edad > 18:\n",
    "    print(\"Es mayor de edad\")"
   ]
  },
  {
   "cell_type": "markdown",
   "id": "66149632",
   "metadata": {},
   "source": [
    "ACTIVIDAD 2"
   ]
  },
  {
   "cell_type": "code",
   "execution_count": null,
   "id": "1678bcd6",
   "metadata": {},
   "outputs": [],
   "source": [
    "# El programa pide al usuario su nota, si es mayor o igual a 6 imprime \"Aprobado\", de lo contrario imprime \"Desaprobado\"\n",
    "nota = int(input(\"Ingrese su nota: \"))\n",
    "if nota >= 6:\n",
    "    print(\"Aprobado\")\n",
    "else:\n",
    "    print(\"Desaprobado\")"
   ]
  },
  {
   "cell_type": "markdown",
   "id": "18728a66",
   "metadata": {},
   "source": [
    "ACTIVIDAD 3"
   ]
  },
  {
   "cell_type": "code",
   "execution_count": 7,
   "id": "2bd0a1a5",
   "metadata": {},
   "outputs": [
    {
     "name": "stdout",
     "output_type": "stream",
     "text": [
      "Ha ingresado un número par\n"
     ]
    }
   ],
   "source": [
    "# Pide un numero, si el modulo de 2 es igual a 0 imprime \"Ha ingresado un número par\", de lo contrario imprime \"Por favor, ingrese un número par\"\n",
    "numero = int(input(\"Ingrese un número: \"))\n",
    "if numero % 2 == 0:\n",
    "    print(\"Ha ingresado un número par\")\n",
    "else:\n",
    "    print(\"Por favor, ingrese un número par\")"
   ]
  },
  {
   "cell_type": "markdown",
   "id": "cc4f4cd2",
   "metadata": {},
   "source": [
    "ACTIVIDAD 4"
   ]
  },
  {
   "cell_type": "code",
   "execution_count": 17,
   "id": "482cc67d",
   "metadata": {},
   "outputs": [
    {
     "name": "stdout",
     "output_type": "stream",
     "text": [
      "Niño/a\n"
     ]
    }
   ],
   "source": [
    "#Solicita una edad al usuario y debe definir una categoría según la edad ingresada.\n",
    "edad = int(input(\"Ingrese su edad: \"))\n",
    "if edad < 12:\n",
    "    print(\"Niño/a\")\n",
    "elif edad >= 12 and edad < 18:\n",
    "    print(\"Adolescente\")\n",
    "elif edad >= 18 and edad < 30:\n",
    "    print(\"Adulto/a joven\")\n",
    "elif edad >= 30:\n",
    "    print(\"Adulto/a\")"
   ]
  },
  {
   "cell_type": "markdown",
   "id": "8d972e01",
   "metadata": {},
   "source": [
    "ACTIVIDAD 5"
   ]
  },
  {
   "cell_type": "code",
   "execution_count": 20,
   "id": "b902f835",
   "metadata": {},
   "outputs": [
    {
     "name": "stdout",
     "output_type": "stream",
     "text": [
      "Ha ingresado una contraseña correcta\n"
     ]
    }
   ],
   "source": [
    "# El programa pide una contraseña al usuario y dependiendo la longitud imprimira si es correcta o incorrecta\n",
    "contraseña = input(\"Ingrese su contraseña: \")\n",
    "if len(contraseña) >= 8 and len(contraseña) <= 14:\n",
    "    print(\"Ha ingresado una contraseña correcta\")\n",
    "else:\n",
    "    print(\"Por favor, ingrese una contraseña de entre 8 y 14 caracteres\")"
   ]
  },
  {
   "cell_type": "markdown",
   "id": "36068f6c",
   "metadata": {},
   "source": [
    "ACTIVIDAD 6"
   ]
  },
  {
   "cell_type": "code",
   "execution_count": 39,
   "id": "bdb7e3c7",
   "metadata": {},
   "outputs": [
    {
     "name": "stdout",
     "output_type": "stream",
     "text": [
      "Sesgo positivo o a la derecha\n"
     ]
    }
   ],
   "source": [
    "# Daba una lista al azar de números calcula su moda, su mediana y su media y las compara para determinar si hay sesgo positivo, negativo o no hay sesgo\n",
    "\n",
    "# Se importan los modulos necesarios\n",
    "from statistics import mode, median, mean\n",
    "import random\n",
    "\n",
    "# Se genera una lista de 50 números aleatorios entre 1 y 100\n",
    "numeros_aleatorios = [random.randint(1, 100) for i in range(50)]\n",
    "\n",
    "# Calcular estadísticas\n",
    "media = mean(numeros_aleatorios)\n",
    "mediana = median(numeros_aleatorios)\n",
    "moda = mode(numeros_aleatorios)\n",
    "\n",
    "# Evaluar el sesgo\n",
    "if media > mediana > moda:\n",
    "    print(\"Sesgo positivo o a la derecha\")\n",
    "elif media < mediana < moda:\n",
    "    print(\"Sesgo negativo o a la izquierda\")\n",
    "elif media == mediana == moda:\n",
    "    print(\"Sin sesgo\")\n"
   ]
  },
  {
   "cell_type": "markdown",
   "id": "ce778d47",
   "metadata": {},
   "source": [
    "ACTIVIDAD 7"
   ]
  },
  {
   "cell_type": "code",
   "execution_count": null,
   "id": "619a563d",
   "metadata": {},
   "outputs": [
    {
     "name": "stdout",
     "output_type": "stream",
     "text": [
      "a\n",
      "hola!\n"
     ]
    }
   ],
   "source": [
    "# Se solicita una frase o palabra, se evalua si termina en vocal para añadirle signo de exclamación al final si no se deja igual\n",
    "frase = input(\"Ingrese una frase o palabra: \")\n",
    "print(frase[-1])\n",
    "if frase[-1].lower() in \"aeiou\":\n",
    "    print(frase + \"!\")\n",
    "else:\n",
    "    print(frase)"
   ]
  },
  {
   "cell_type": "markdown",
   "id": "9fd322eb",
   "metadata": {},
   "source": [
    "ACTIVIDAD 8"
   ]
  },
  {
   "cell_type": "code",
   "execution_count": null,
   "id": "1477326d",
   "metadata": {},
   "outputs": [
    {
     "name": "stdout",
     "output_type": "stream",
     "text": [
      "san\n"
     ]
    }
   ],
   "source": [
    "#Le pide al usuario su nombre y que ingrese un número, dependiendo cual sea se modifica su nombre\n",
    "\n",
    "nombre = input(\"Ingrese su nombre: \")\n",
    "numero = int(input(\"Ingrese un número: 1 Si quiere su nombre en mayúsculas, 2 Si quiere su nombre en minúsculas, 3 Si quiere su nombre con la primera letra mayúscula\"))\n",
    "\n",
    "if numero == 1:\n",
    "    print(nombre.upper())\n",
    "elif numero == 2:\n",
    "    print(nombre.lower())\n",
    "elif numero == 3:\n",
    "    print(nombre.title())"
   ]
  },
  {
   "cell_type": "markdown",
   "id": "838a56f9",
   "metadata": {},
   "source": [
    "ACTIVIDAD 9"
   ]
  },
  {
   "cell_type": "code",
   "execution_count": 49,
   "id": "e32f6506",
   "metadata": {},
   "outputs": [
    {
     "name": "stdout",
     "output_type": "stream",
     "text": [
      "Fuerte\n"
     ]
    }
   ],
   "source": [
    "# Le pide al usuario que ingrese la magnitud de un terremoto y evalue en qué categoría está \n",
    "\n",
    "magnitud = float(input(\"Ingrese la magnitud del terremoto: \"))\n",
    "\n",
    "if magnitud < 3:\n",
    "    print(\"Muy leve\")\n",
    "elif magnitud >= 3 and magnitud < 4:\n",
    "    print(\"Leve\")\n",
    "elif magnitud >= 4 and magnitud < 5:\n",
    "    print(\"Moderado\") \n",
    "elif magnitud >= 5 and magnitud < 6:\n",
    "    print(\"Fuerte\")\n",
    "elif magnitud >= 6 and magnitud < 7:\n",
    "    print(\"Muy Fuerte\")\n",
    "elif magnitud >= 7:\n",
    "    print(\"Extremo\")"
   ]
  },
  {
   "cell_type": "markdown",
   "id": "05dc7793",
   "metadata": {},
   "source": [
    "ACTIVIDAD 10"
   ]
  },
  {
   "cell_type": "code",
   "execution_count": 53,
   "id": "bdeff1f8",
   "metadata": {},
   "outputs": [
    {
     "name": "stdout",
     "output_type": "stream",
     "text": [
      "Primavera\n"
     ]
    }
   ],
   "source": [
    "# El programa solicita al usuario su ubicación en el hemisferio que se encuentra, mes y día para evaluar si es primavera, verano, otoño o invierno\n",
    "ubicacion = input(\"Ingrese su ubicación (Norte o Sur): \").strip().lower()\n",
    "mes = int(input(\"Ingrese el mes (1-12): \"))\n",
    "dia = int(input(\"Ingrese el día (1-31): \"))\n",
    "\n",
    "if ubicacion == \"norte\":\n",
    "    if (mes == 3 and dia >= 20) or (mes == 4) or (mes == 5) or (mes == 6 and dia < 21):\n",
    "        print(\"Primavera\")\n",
    "    elif (mes == 6 and dia >= 21) or (mes == 7) or (mes == 8) or (mes == 9 and dia < 23):\n",
    "        print(\"Verano\")\n",
    "    elif (mes == 9 and dia >= 23) or (mes == 10) or (mes == 11) or (mes == 12 and dia < 21):\n",
    "        print(\"Otoño\")\n",
    "    else:\n",
    "        print(\"Invierno\")\n",
    "elif ubicacion == \"sur\":\n",
    "    if (mes == 9 and dia >= 23) or (mes == 10) or (mes == 11) or (mes == 12 and dia < 21):\n",
    "        print(\"Primavera\")\n",
    "    elif (mes == 12 and dia >= 21) or (mes == 1) or (mes == 2) or (mes == 3 and dia < 20):\n",
    "        print(\"Verano\")\n",
    "    elif (mes == 3 and dia >= 20) or (mes == 4) or (mes == 5) or (mes == 6 and dia < 21):\n",
    "        print(\"Otoño\")\n",
    "    else:\n",
    "        print(\"Invierno\")"
   ]
  }
 ],
 "metadata": {
  "kernelspec": {
   "display_name": "Python 3",
   "language": "python",
   "name": "python3"
  },
  "language_info": {
   "codemirror_mode": {
    "name": "ipython",
    "version": 3
   },
   "file_extension": ".py",
   "mimetype": "text/x-python",
   "name": "python",
   "nbconvert_exporter": "python",
   "pygments_lexer": "ipython3",
   "version": "3.13.2"
  }
 },
 "nbformat": 4,
 "nbformat_minor": 5
}
