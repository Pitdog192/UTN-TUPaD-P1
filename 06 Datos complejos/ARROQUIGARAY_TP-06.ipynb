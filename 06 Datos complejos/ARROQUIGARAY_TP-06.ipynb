{
 "cells": [
  {
   "cell_type": "markdown",
   "id": "857640c5",
   "metadata": {},
   "source": [
    "1) Dado el diccionario precios_frutas\n",
    "precios_frutas = {'Banana': 1200, 'Ananá': 2500, 'Melón': 3000, 'Uva':\n",
    "1450}\n",
    "Añadir las siguientes frutas con sus respectivos precios:\n",
    "● Naranja = 1200\n",
    "● Manzana = 1500\n",
    "● Pera = 2300"
   ]
  },
  {
   "cell_type": "code",
   "execution_count": 5,
   "id": "91f79e01",
   "metadata": {},
   "outputs": [
    {
     "name": "stdout",
     "output_type": "stream",
     "text": [
      "{'Banana': 1200, 'Ananá': 2500, 'Melón': 3000, 'Uva': 1450, 'Naranja': 1330, 'Manzana': 1330, 'Pera': 1330}\n"
     ]
    }
   ],
   "source": [
    "precios_frutas = {'Banana': 1200, 'Ananá': 2500, 'Melón': 3000, 'Uva': 1450}\n",
    "precios_frutas[\"Naranja\"] = 1330\n",
    "precios_frutas[\"Manzana\"] = 1330\n",
    "precios_frutas[\"Pera\"] = 1330\n",
    "print(precios_frutas)"
   ]
  },
  {
   "cell_type": "markdown",
   "id": "b0432055",
   "metadata": {},
   "source": [
    "2) Siguiendo con el diccionario precios_frutas que resulta luego de ejecutar el código\n",
    "desarrollado en el punto anterior, actualizar los precios de las siguientes frutas:\n",
    "● Banana = 1330\n",
    "● Manzana = 1700\n",
    "● Melón = 2800\n"
   ]
  },
  {
   "cell_type": "code",
   "execution_count": 6,
   "id": "5bf8f0eb",
   "metadata": {},
   "outputs": [
    {
     "name": "stdout",
     "output_type": "stream",
     "text": [
      "{'Banana': 1330, 'Ananá': 2500, 'Melón': 2800, 'Uva': 1450, 'Naranja': 1330, 'Manzana': 1700, 'Pera': 1330}\n"
     ]
    }
   ],
   "source": [
    "precios_frutas = {'Banana': 1200, 'Ananá': 2500, 'Melón': 3000, 'Uva': 1450, 'Naranja': 1330, 'Manzana': 1330, 'Pera': 1330}\n",
    "precios_frutas[\"Banana\"] = 1330\n",
    "precios_frutas[\"Manzana\"] = 1700\n",
    "precios_frutas[\"Melón\"] = 2800\n",
    "print(precios_frutas)"
   ]
  },
  {
   "cell_type": "markdown",
   "id": "24b76ee2",
   "metadata": {},
   "source": [
    "3) Siguiendo con el diccionario precios_frutas que resulta luego de ejecutar el código\n",
    "desarrollado en el punto anterior, crear una lista que contenga únicamente las frutas sin los\n",
    "precios."
   ]
  },
  {
   "cell_type": "code",
   "execution_count": 7,
   "id": "d9483dc7",
   "metadata": {},
   "outputs": [
    {
     "name": "stdout",
     "output_type": "stream",
     "text": [
      "['Banana', 'Ananá', 'Melón', 'Uva', 'Naranja', 'Manzana', 'Pera']\n"
     ]
    }
   ],
   "source": [
    "precios_frutas = {'Banana': 1330, 'Ananá': 2500, 'Melón': 2800, 'Uva': 1450, 'Naranja': 1330, 'Manzana': 1700, 'Pera': 1330}\n",
    "frutas = list(precios_frutas.keys())\n",
    "print(frutas)"
   ]
  },
  {
   "cell_type": "markdown",
   "id": "b94da655",
   "metadata": {},
   "source": [
    "4) Escribí un programa que permita almacenar y consultar números telefónicos.\n",
    "• Permití al usuario cargar 5 contactos con su nombre como clave y número como valor.\n",
    "• Luego, pedí un nombre y mostrale el número asociado, si existe."
   ]
  },
  {
   "cell_type": "code",
   "execution_count": 14,
   "id": "b2bea0c8",
   "metadata": {},
   "outputs": [
    {
     "name": "stdout",
     "output_type": "stream",
     "text": [
      "El número de san es: 123\n"
     ]
    }
   ],
   "source": [
    "agenda = {}\n",
    "\n",
    "for i in range(2):\n",
    "    nombre = input(f\"Ingresá el nombre del contacto {i+1}: \")\n",
    "    numero = input(f\"Ingresá el número de {nombre}: \")\n",
    "    agenda[nombre] = numero\n",
    "\n",
    "# Consultar un contacto\n",
    "consulta = input(f\"\\n¿De qué contacto querés ver el número?: {list(agenda.keys())}\")\n",
    "\n",
    "# Mostrar el número si existe\n",
    "if consulta in agenda:\n",
    "    print(f\"El número de {consulta} es: {agenda[consulta]}\")\n",
    "else:\n",
    "    print(f\"No se encontró el contacto '{consulta}'.\")"
   ]
  },
  {
   "cell_type": "markdown",
   "id": "e1560b67",
   "metadata": {},
   "source": [
    "5) Solicita al usuario una frase e imprime:\n",
    "• Las palabras únicas (usando un set).\n",
    "• Un diccionario con la cantidad de veces que aparece cada palabra"
   ]
  },
  {
   "cell_type": "code",
   "execution_count": null,
   "id": "d5dec5aa",
   "metadata": {},
   "outputs": [
    {
     "name": "stdout",
     "output_type": "stream",
     "text": [
      "Palabras únicas: {'soy', 'hoy', 'pepito'}\n",
      "Cantidad de apariciones por palabra: {'hoy': 1, 'soy': 1, 'pepito': 1}\n"
     ]
    }
   ],
   "source": [
    "# Pedir frase al usuario\n",
    "frase = input(\"Ingresá una frase: \")\n",
    "\n",
    "# Separar la frase en palabras (asumiendo separación por espacios)\n",
    "palabras = frase.split()\n",
    "\n",
    "# Obtener palabras únicas usando set\n",
    "palabras_unicas = set(palabras)\n",
    "print(\"Palabras únicas:\", palabras_unicas)\n",
    "\n",
    "# Contar la cantidad de veces que aparece cada palabra\n",
    "contador_palabras = {}\n",
    "\n",
    "for palabra in palabras:\n",
    "    if palabra in contador_palabras:\n",
    "        contador_palabras[palabra] += 1\n",
    "    else:\n",
    "        contador_palabras[palabra] = 1\n",
    "\n",
    "print(\"Cantidad de apariciones de palabras:\", contador_palabras)"
   ]
  },
  {
   "cell_type": "markdown",
   "id": "02e2a189",
   "metadata": {},
   "source": [
    "6) Permití ingresar los nombres de 3 alumnos, y para cada uno una tupla de 3 notas.\n",
    "Luego, mostrá el promedio de cada alumno."
   ]
  },
  {
   "cell_type": "code",
   "execution_count": 16,
   "id": "342bc3fb",
   "metadata": {},
   "outputs": [
    {
     "name": "stdout",
     "output_type": "stream",
     "text": [
      "El promedio de san es: 2.00\n",
      "El promedio de ash es: 7.00\n",
      "El promedio de pedro es: 8.00\n"
     ]
    }
   ],
   "source": [
    "alumnos = {}\n",
    "\n",
    "# Ingresar los datos\n",
    "for i in range(3):\n",
    "    nombre = input(f\"Ingresá el nombre del alumno {i+1}: \")\n",
    "    notas = []\n",
    "    for j in range(3):\n",
    "        nota = float(input(f\"Ingresá la nota {j+1} de {nombre}: \"))\n",
    "        notas.append(nota)\n",
    "    alumnos[nombre] = tuple(notas)  # Se guarda como tupla\n",
    "\n",
    "# Mostrar promedio de cada alumno\n",
    "for nombre, notas in alumnos.items():\n",
    "    promedio = sum(notas) / len(notas)\n",
    "    print(f\"El promedio de {nombre} es: {promedio:.2f}\")"
   ]
  },
  {
   "cell_type": "markdown",
   "id": "ed6ca7ef",
   "metadata": {},
   "source": [
    "7) Dado dos sets de números, representando dos listas de estudiantes que aprobaron Parcial 1\n",
    "y Parcial 2:\n",
    "• Mostrá los que aprobaron ambos parciales.\n",
    "• Mostrá los que aprobaron solo uno de los dos.\n",
    "• Mostrá la lista total de estudiantes que aprobaron al menos un parcial (sin repetir)."
   ]
  },
  {
   "cell_type": "code",
   "execution_count": 17,
   "id": "572f6b51",
   "metadata": {},
   "outputs": [
    {
     "name": "stdout",
     "output_type": "stream",
     "text": [
      "Aprobaron ambos parciales: set()\n",
      "Aprobaron solo uno de los dos parciales: {'SantiagoA', 'Luciano', 'Luis', 'Marta', 'Carlos', 'Sofía', 'SantiagoB', 'Macarena'}\n",
      "Aprobaron al menos un parcial: {'SantiagoA', 'Luciano', 'Luis', 'SantiagoB', 'Marta', 'Carlos', 'Sofía', 'Macarena'}\n"
     ]
    }
   ],
   "source": [
    "# Ejemplo de sets con estudiantes que aprobaron Parcial 1 y Parcial 2\n",
    "parcial1 = {\"SantiagoA\", \"SantiagoB\", \"Macarena\", \"Luciano\"}\n",
    "parcial2 = {\"Luis\", \"Marta\", \"Carlos\", \"Sofía\"}\n",
    "\n",
    "# 1. Estudiantes que aprobaron ambos parciales (intersección)\n",
    "ambos = parcial1.intersection(parcial2)\n",
    "print(\"Aprobaron ambos parciales:\", ambos)\n",
    "\n",
    "# 2. Estudiantes que aprobaron solo uno de los dos (diferencia simétrica)\n",
    "solo_uno = parcial1.symmetric_difference(parcial2)\n",
    "print(\"Aprobaron solo uno de los dos parciales:\", solo_uno)\n",
    "\n",
    "# 3. Lista total de estudiantes que aprobaron al menos un parcial (unión)\n",
    "al_menos_uno = parcial1.union(parcial2)\n",
    "print(\"Aprobaron al menos un parcial:\", al_menos_uno)"
   ]
  },
  {
   "cell_type": "markdown",
   "id": "50669b4d",
   "metadata": {},
   "source": [
    "8) Armá un diccionario donde las claves sean nombres de productos y los valores su stock.\n",
    "Permití al usuario:\n",
    "• Consultar el stock de un producto ingresado.\n",
    "• Agregar unidades al stock si el producto ya existe.\n",
    "• Agregar un nuevo producto si no existe."
   ]
  },
  {
   "cell_type": "code",
   "execution_count": 18,
   "id": "7d4d72fb",
   "metadata": {},
   "outputs": [
    {
     "name": "stdout",
     "output_type": "stream",
     "text": [
      "Stock actual de manzana: 10\n",
      "Nuevo stock de manzana: 25\n"
     ]
    }
   ],
   "source": [
    "stock_productos = {\n",
    "    \"manzana\": 10,\n",
    "    \"banana\": 5,\n",
    "    \"naranja\": 8\n",
    "}\n",
    "\n",
    "producto = input(\"Ingresá el nombre del producto: \").lower()\n",
    "if producto in stock_productos:\n",
    "    print(f\"Stock actual de {producto}: {stock_productos[producto]}\")\n",
    "    try:\n",
    "        cantidad = int(input(\"¿Cuántas unidades querés agregar?: \"))\n",
    "        if cantidad > 0:\n",
    "            stock_productos[producto] += cantidad\n",
    "            print(f\"Nuevo stock de {producto}: {stock_productos[producto]}\")\n",
    "        else:\n",
    "            print(\"Cantidad inválida.\")\n",
    "    except ValueError:\n",
    "        print(\"Por favor ingresá un número válido.\")\n",
    "else:\n",
    "    try:\n",
    "        cantidad = int(input(f\"El producto '{producto}' no existe. Ingresá la cantidad inicial para agregarlo: \"))\n",
    "        if cantidad >= 0:\n",
    "            stock_productos[producto] = cantidad\n",
    "            print(f\"Producto '{producto}' agregado con stock {cantidad}.\")\n",
    "        else:\n",
    "            print(\"Cantidad inválida.\")\n",
    "    except ValueError:\n",
    "        print(\"Por favor ingresá un número válido.\")"
   ]
  },
  {
   "cell_type": "markdown",
   "id": "f66c9984",
   "metadata": {},
   "source": [
    "9) Creá una agenda donde las claves sean tuplas de (día, hora) y los valores sean eventos."
   ]
  },
  {
   "cell_type": "code",
   "execution_count": null,
   "id": "dd4dab20",
   "metadata": {},
   "outputs": [
    {
     "name": "stdout",
     "output_type": "stream",
     "text": [
      "Lunes a las 10:00: Reunión con equipo\n",
      "Martes a las 15:30: Clase de matemáticas\n",
      "Viernes a las 09:00: Cita médica\n",
      "No hay eventos programados en ese día y hora.\n"
     ]
    }
   ],
   "source": [
    "# Agenda: claves = (día, hora), valores = evento\n",
    "agenda = {}\n",
    "\n",
    "# Agregar algunos eventos\n",
    "agenda[(\"lunes\", \"10:00\")] = \"Tarea Programación\"\n",
    "agenda[(\"martes\", \"15:30\")] = \"Trabajar\"\n",
    "agenda[(\"viernes\", \"09:00\")] = \"Ir al médico\"\n",
    "\n",
    "# Mostrar todos los eventos\n",
    "for (dia, hora), evento in agenda.items():\n",
    "    print(f\"{dia.capitalize()} a las {hora}: {evento}\")\n",
    "\n",
    "# Consultar un evento específico\n",
    "dia_consulta = input(\"Ingresá el día para consultar si hay algo pendiente: \").lower()\n",
    "hora_consulta = input(\"Ingresá la hora para consultar: \")\n",
    "\n",
    "clave = (dia_consulta, hora_consulta)\n",
    "if clave in agenda:\n",
    "    print(f\"Evento en {dia_consulta.capitalize()} a las {hora_consulta}: {agenda[clave]}\")\n",
    "else:\n",
    "    print(\"No hay eventos para día y hora.\")"
   ]
  },
  {
   "cell_type": "markdown",
   "id": "d627536b",
   "metadata": {},
   "source": [
    "10) Dado un diccionario que mapea nombres de países con sus capitales, construí un nuevo\n",
    "diccionario donde:\n",
    "• Las capitales sean las claves.\n",
    "• Los países sean los valores."
   ]
  },
  {
   "cell_type": "code",
   "execution_count": 20,
   "id": "b204eee9",
   "metadata": {},
   "outputs": [
    {
     "name": "stdout",
     "output_type": "stream",
     "text": [
      "{'Buenos Aires': 'Argentina', 'Brasilia': 'Brasil', 'Santiago': 'Chile', 'Montevideo': 'Uruguay'}\n"
     ]
    }
   ],
   "source": [
    "paises_capitales = {\n",
    "    \"Argentina\": \"Buenos Aires\",\n",
    "    \"Brasil\": \"Brasilia\",\n",
    "    \"Chile\": \"Santiago\",\n",
    "    \"Uruguay\": \"Montevideo\"\n",
    "}\n",
    "\n",
    "# Nuevo diccionario: capital -> país\n",
    "capitales_paises = {}\n",
    "\n",
    "for pais, capital in paises_capitales.items():\n",
    "    capitales_paises[capital] = pais\n",
    "\n",
    "print(capitales_paises)"
   ]
  }
 ],
 "metadata": {
  "kernelspec": {
   "display_name": "Python 3",
   "language": "python",
   "name": "python3"
  },
  "language_info": {
   "codemirror_mode": {
    "name": "ipython",
    "version": 3
   },
   "file_extension": ".py",
   "mimetype": "text/x-python",
   "name": "python",
   "nbconvert_exporter": "python",
   "pygments_lexer": "ipython3",
   "version": "3.13.2"
  }
 },
 "nbformat": 4,
 "nbformat_minor": 5
}
