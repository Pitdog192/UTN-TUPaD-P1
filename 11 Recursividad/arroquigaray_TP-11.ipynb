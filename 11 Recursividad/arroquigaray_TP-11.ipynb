{
 "cells": [
  {
   "cell_type": "markdown",
   "id": "24a0be76",
   "metadata": {},
   "source": [
    "1) Crea una función recursiva que calcule el factorial de un número. Luego, utiliza esa función para calcular y mostrar en pantalla el factorial de todos los números enteros entre 1 y el número que indique el usuario."
   ]
  },
  {
   "cell_type": "code",
   "execution_count": null,
   "id": "3a8b7f9c",
   "metadata": {},
   "outputs": [
    {
     "name": "stdout",
     "output_type": "stream",
     "text": [
      "Factoriales de 1 a 1:\n",
      "1! = 1\n"
     ]
    }
   ],
   "source": [
    "def factorial(n):\n",
    "    if n == 0 or n == 1:\n",
    "        return 1\n",
    "    else:\n",
    "        return n * factorial(n - 1)\n",
    "\n",
    "# Se pide al usuario un número entero positivo\n",
    "num = int(input(\"Ingresá un número entero positivo: \"))\n",
    "\n",
    "print(f\"Factoriales de 1 a {num}:\")\n",
    "for i in range(1, num + 1):\n",
    "    print(f\"{i}! = {factorial(i)}\")"
   ]
  },
  {
   "cell_type": "markdown",
   "id": "8caaa9ce",
   "metadata": {},
   "source": [
    "2) Crea una función recursiva que calcule el valor de la serie de Fibonacci en la posición indicada. Posteriormente, muestra la serie completa hasta la posición que el usuario especifique."
   ]
  },
  {
   "cell_type": "code",
   "execution_count": null,
   "id": "c9bfae17",
   "metadata": {},
   "outputs": [
    {
     "name": "stdout",
     "output_type": "stream",
     "text": [
      "Serie de Fibonacci hasta la posición 5:\n",
      "F(0) = 0\n",
      "F(1) = 1\n",
      "F(2) = 1\n",
      "F(3) = 2\n",
      "F(4) = 3\n",
      "F(5) = 5\n"
     ]
    }
   ],
   "source": [
    "def fibonacci(n):\n",
    "    if n == 0:\n",
    "        return 0\n",
    "    elif n == 1:\n",
    "        return 1\n",
    "    else:\n",
    "        return fibonacci(n-1) + fibonacci(n-2)\n",
    "\n",
    "# El usuario ingresa la posición hasta donde quiere la serie de Fibonacci\n",
    "pos = int(input(\"Ingresa la posición hasta donde quieres la serie de Fibonacci: \"))\n",
    "\n",
    "print(f\"Serie de Fibonacci hasta la posición {pos}:\")\n",
    "for i in range(pos + 1):\n",
    "    print(f\"F({i}) = {fibonacci(i)}\")"
   ]
  },
  {
   "cell_type": "markdown",
   "id": "24ba5074",
   "metadata": {},
   "source": [
    "3) Crea una función recursiva que calcule la potencia de un número base elevado a un exponente, utilizando la fórmula 𝑛 𝑚 = 𝑛 ∗ 𝑛 (𝑚−1) . Prueba esta función en un algoritmo general."
   ]
  },
  {
   "cell_type": "code",
   "execution_count": null,
   "id": "9160dbe4",
   "metadata": {},
   "outputs": [
    {
     "name": "stdout",
     "output_type": "stream",
     "text": [
      "5.0^5 = 3125.0\n"
     ]
    }
   ],
   "source": [
    "def potencia(base, exponente):\n",
    "    if exponente == 0:\n",
    "        return 1\n",
    "    else:\n",
    "        return base * potencia(base, exponente - 1)\n",
    "\n",
    "b = float(input(\"Ingresa la base: \"))\n",
    "e = int(input(\"Ingresa el exponente (entero no negativo): \"))\n",
    "\n",
    "resultado = potencia(b, e)\n",
    "print(f\"{b}^{e} = {resultado}\")"
   ]
  },
  {
   "cell_type": "markdown",
   "id": "1b232acf",
   "metadata": {},
   "source": [
    "4) Crear una función recursiva en Python que reciba un número entero positivo en base decimal y devuelva su representación en binario como una cadena de texto.\n"
   ]
  },
  {
   "cell_type": "code",
   "execution_count": 10,
   "id": "6b669662",
   "metadata": {},
   "outputs": [
    {
     "name": "stdout",
     "output_type": "stream",
     "text": [
      "El número 3 en binario es: 11\n"
     ]
    }
   ],
   "source": [
    "def decimal_a_binario(n):\n",
    "    if n == 0:\n",
    "        return \"\"\n",
    "    else:\n",
    "        return decimal_a_binario(n // 2) + str(n % 2)\n",
    "\n",
    "# Se le pide al usuario un número entero positivo para convertir a binario\n",
    "numero = int(input(\"Ingresa un número entero positivo: \"))\n",
    "\n",
    "# Se retornan los valores en binario\n",
    "if numero < 0:\n",
    "    print(\"El número debe ser positivo.\")\n",
    "elif numero == 0:\n",
    "    print(\"El número 0 en binario es: 0\")\n",
    "else:\n",
    "    binario = decimal_a_binario(numero)\n",
    "    print(f\"El número {numero} en binario es: {binario}\")"
   ]
  },
  {
   "cell_type": "markdown",
   "id": "72dc9571",
   "metadata": {},
   "source": [
    "5) Implementá una función recursiva llamada es_palindromo(palabra) que reciba una cadena de texto sin espacios ni tildes, y devuelva True si es un palíndromo o False si no lo es."
   ]
  },
  {
   "cell_type": "code",
   "execution_count": 12,
   "id": "54368ce7",
   "metadata": {},
   "outputs": [
    {
     "name": "stdout",
     "output_type": "stream",
     "text": [
      "\"ana\" es un palíndromo.\n"
     ]
    }
   ],
   "source": [
    "def es_palindromo(palabra):\n",
    "    # Caso base: si la palabra tiene 0 o 1 letras, es un palíndromo\n",
    "    if len(palabra) <= 1:\n",
    "        return True\n",
    "    # Compara la primera y última letra\n",
    "    if palabra[0] != palabra[-1]:\n",
    "        return False\n",
    "    # Llama recursivamente con la palabra sin la primera y última letra\n",
    "    return es_palindromo(palabra[1:-1])\n",
    "\n",
    "# Ejemplo de uso:\n",
    "texto = input(\"Ingresa una palabra sin espacios ni tildes: \").lower()\n",
    "\n",
    "if es_palindromo(texto):\n",
    "    print(f'\"{texto}\" es un palíndromo.')\n",
    "else:\n",
    "    print(f'\"{texto}\" no es un palíndromo.')"
   ]
  },
  {
   "cell_type": "markdown",
   "id": "b7d8248f",
   "metadata": {},
   "source": [
    "6) Escribí una función recursiva en Python llamada suma_digitos(n) que reciba un número entero positivo y devuelva la suma de todos sus dígitos."
   ]
  },
  {
   "cell_type": "code",
   "execution_count": 14,
   "id": "367f02d2",
   "metadata": {},
   "outputs": [
    {
     "name": "stdout",
     "output_type": "stream",
     "text": [
      "La suma de los dígitos de 8 es: 8\n"
     ]
    }
   ],
   "source": [
    "def suma_digitos(n):\n",
    "    if n < 10:\n",
    "        return n\n",
    "    else:\n",
    "        return (n % 10) + suma_digitos(n // 10)\n",
    "\n",
    "# Se le pide al usuario un número entero positivo para sumar sus dígitos\n",
    "numero = int(input(\"Ingresa un número entero positivo: \"))\n",
    "if numero < 0:\n",
    "    print(\"El número debe ser positivo.\")\n",
    "else:\n",
    "    resultado = suma_digitos(numero)\n",
    "    print(f\"La suma de los dígitos de {numero} es: {resultado}\")"
   ]
  },
  {
   "cell_type": "markdown",
   "id": "8a436866",
   "metadata": {},
   "source": [
    "7) Un niño está construyendo una pirámide con bloques.\n",
    "En el nivel más bajo coloca n bloques, en el siguiente nivel uno menos (n - 1), y así sucesivamente hasta llegar al último nivel con un solo bloque."
   ]
  },
  {
   "cell_type": "code",
   "execution_count": 15,
   "id": "0c9c2372",
   "metadata": {},
   "outputs": [
    {
     "name": "stdout",
     "output_type": "stream",
     "text": [
      "El número de bloques hasta 5 es: 15\n"
     ]
    }
   ],
   "source": [
    "def contar_bloques(n):\n",
    "    if n == 1:\n",
    "        return 1\n",
    "    else:\n",
    "        return n + contar_bloques(n - 1)\n",
    "\n",
    "# Se le pide al usuario un número entero positivo para contar bloques\n",
    "numero = int(input(\"Ingresa un número entero positivo: \")) \n",
    "if numero < 1:\n",
    "    print(\"El número debe ser positivo y mayor que cero.\")\n",
    "else:\n",
    "    bloques = contar_bloques(numero)\n",
    "    print(f\"El número de bloques hasta {numero} es: {bloques}\")"
   ]
  },
  {
   "cell_type": "markdown",
   "id": "4e6ab06a",
   "metadata": {},
   "source": [
    "8) Escribí una función recursiva llamada contar_digito(numero, digito) que reciba un número entero positivo (numero) y un dígito (entre 0 y 9), y devuelva cuántas veces aparece ese dígito dentro del número."
   ]
  },
  {
   "cell_type": "code",
   "execution_count": null,
   "id": "c697ae1a",
   "metadata": {},
   "outputs": [
    {
     "name": "stdout",
     "output_type": "stream",
     "text": [
      "5\n",
      "5\n",
      "0\n"
     ]
    }
   ],
   "source": [
    "def contar_digito(numero, digito):\n",
    "    if numero == 0:\n",
    "        return 0\n",
    "    else:\n",
    "        ultimo = numero % 10\n",
    "        if ultimo == digito:\n",
    "            return 1 + contar_digito(numero // 10, digito)\n",
    "        else:\n",
    "            return contar_digito(numero // 10, digito)\n",
    "\n",
    "# Ejemplos de uso:\n",
    "print(contar_digito(1223234221, 2))\n",
    "print(contar_digito(551235755, 5))    \n",
    "print(contar_digito(17243456, 8))  "
   ]
  }
 ],
 "metadata": {
  "kernelspec": {
   "display_name": "Python 3",
   "language": "python",
   "name": "python3"
  },
  "language_info": {
   "codemirror_mode": {
    "name": "ipython",
    "version": 3
   },
   "file_extension": ".py",
   "mimetype": "text/x-python",
   "name": "python",
   "nbconvert_exporter": "python",
   "pygments_lexer": "ipython3",
   "version": "3.13.3"
  }
 },
 "nbformat": 4,
 "nbformat_minor": 5
}
