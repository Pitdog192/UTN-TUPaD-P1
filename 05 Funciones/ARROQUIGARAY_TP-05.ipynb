{
 "cells": [
  {
   "cell_type": "markdown",
   "metadata": {},
   "source": [
    "1. Crear una función llamada imprimir_hola_mundo que imprima por pantalla el mensaje: “Hola Mundo!”. Llamar a esta función desde el programa principal."
   ]
  },
  {
   "cell_type": "code",
   "execution_count": null,
   "metadata": {},
   "outputs": [
    {
     "name": "stdout",
     "output_type": "stream",
     "text": [
      "Hola mundo!\n"
     ]
    }
   ],
   "source": [
    "def imprimir_hola_mundo():\n",
    "    # Devolucion del resultado\n",
    "    print(\"Hola mundo!\")\n",
    "\n",
    "#Llamada a la funcion\n",
    "imprimir_hola_mundo()"
   ]
  },
  {
   "cell_type": "markdown",
   "metadata": {},
   "source": [
    "2. Crear una función llamada saludar_usuario(nombre) que reciba como parámetro un nombre y devuelva un saludo personalizado. \n",
    "Por ejemplo, si se llama con saludar_usuario(\"Marcos\"), deberá devolver: “Hola Marcos!”. Llamar a esta función desde el programa principal solicitando el nombre al usuario."
   ]
  },
  {
   "cell_type": "code",
   "execution_count": null,
   "metadata": {},
   "outputs": [
    {
     "name": "stdout",
     "output_type": "stream",
     "text": [
      "Hola Santiago\n"
     ]
    }
   ],
   "source": [
    "def saludar_usuario(name):\n",
    "    # Devolucion de los valores\n",
    "    print(f'Hola {name}')\n",
    "\n",
    "#Llamada a la funcion\n",
    "saludar_usuario('Santiago')"
   ]
  },
  {
   "cell_type": "markdown",
   "metadata": {},
   "source": [
    "3. Crear una función llamada informacion_personal(nombre, apellido, edad, residencia) que reciba cuatro parámetros e imprima: “Soy [nombre] [apellido], tengo [edad] años y vivo en [residencia]”. \n",
    "Pedir los datos al usuario y llamar a esta función con los valores ingresados."
   ]
  },
  {
   "cell_type": "code",
   "execution_count": null,
   "metadata": {},
   "outputs": [
    {
     "name": "stdout",
     "output_type": "stream",
     "text": [
      "Soy San arr, tengo 20 años y vivo en zar\n"
     ]
    }
   ],
   "source": [
    "def informacion_personal(nombre, apellido, edad, residencia):\n",
    "    # Devolucion del resultado\n",
    "    print(f'Soy {nombre} {apellido}, tengo {edad} años y vivo en {residencia}')\n",
    "\n",
    "\n",
    "# Se piden los valores para la funcion\n",
    "nombre = input(\"Introduzca su nombre\")\n",
    "apellido = input(\"Introduzca su apellido\")\n",
    "edad = int(input(\"Introduzca su edad\"))\n",
    "residencia = input(\"Introduzca su residencia\")\n",
    "\n",
    "# Llamada a la funcion\n",
    "informacion_personal(nombre, apellido, edad, residencia)"
   ]
  },
  {
   "cell_type": "markdown",
   "metadata": {},
   "source": [
    "4.  Crear dos funciones: calcular_area_circulo(radio) que reciba el radio como parámetro y devuelva el área del círculo. \n",
    "    calcular_perimetro_circulo(radio) que reciba el radio como parámetro y devuelva el perímetro del círculo.\n",
    "    Solicitar el radio al usuario y llamar ambas funciones para mostrar los resultados."
   ]
  },
  {
   "cell_type": "code",
   "execution_count": null,
   "metadata": {},
   "outputs": [
    {
     "name": "stdout",
     "output_type": "stream",
     "text": [
      "Area: 78.54\n",
      "Perimetro: 31.42\n"
     ]
    }
   ],
   "source": [
    "import math\n",
    "\n",
    "# Funcion que calcula el area de un circulo\n",
    "def calcular_area_circulo(radio):\n",
    "    # Operacion\n",
    "    area = math.pi * radio ** 2\n",
    "\n",
    "    # Devolucion del resultado\n",
    "    print(f\"Area: {area:.2f}\")\n",
    "\n",
    "# Funcion que calcula el perimetro de un circulo\n",
    "def calcular_perimetro_circulo(radio):\n",
    "    # Operacion\n",
    "    perimetro = 2 * math.pi * radio\n",
    "\n",
    "    # Devolucion del resultado\n",
    "    print(f\"Perimetro: {perimetro:.2f}\")\n",
    "\n",
    "# Se pide el valor del radio\n",
    "radio = int(input(\"Introduzca el radio para hacer calculos\"))\n",
    "\n",
    "# Llamada a las funciones\n",
    "calcular_area_circulo(radio)\n",
    "calcular_perimetro_circulo(radio)\n"
   ]
  },
  {
   "cell_type": "markdown",
   "metadata": {},
   "source": [
    "5.  Crear una función llamada segundos_a_horas(segundos) que reciba una cantidad de segundos como parámetro y devuelva la cantidad de horas correspondientes.\n",
    "    Solicitar al usuario los segundos y mostrar el resultado usando esta función."
   ]
  },
  {
   "cell_type": "code",
   "execution_count": null,
   "metadata": {},
   "outputs": [
    {
     "ename": "ValueError",
     "evalue": "invalid literal for int() with base 10: ''",
     "output_type": "error",
     "traceback": [
      "\u001b[31m---------------------------------------------------------------------------\u001b[39m",
      "\u001b[31mValueError\u001b[39m                                Traceback (most recent call last)",
      "\u001b[36mCell\u001b[39m\u001b[36m \u001b[39m\u001b[32mIn[13]\u001b[39m\u001b[32m, line 6\u001b[39m\n\u001b[32m      3\u001b[39m     \u001b[38;5;28mprint\u001b[39m(\u001b[33mf\u001b[39m\u001b[33m\"\u001b[39m\u001b[33mSegundos pasado a horas: \u001b[39m\u001b[38;5;132;01m{\u001b[39;00mhoras\u001b[38;5;132;01m}\u001b[39;00m\u001b[33m\"\u001b[39m)\n\u001b[32m      5\u001b[39m \u001b[38;5;66;03m# Se pide el valor en segundos\u001b[39;00m\n\u001b[32m----> \u001b[39m\u001b[32m6\u001b[39m segundos = \u001b[38;5;28;43mint\u001b[39;49m\u001b[43m(\u001b[49m\u001b[38;5;28;43minput\u001b[39;49m\u001b[43m(\u001b[49m\u001b[33;43m\"\u001b[39;49m\u001b[33;43mIntroduzca los segundos a convertir en horas\u001b[39;49m\u001b[33;43m\"\u001b[39;49m\u001b[43m)\u001b[49m\u001b[43m)\u001b[49m\n\u001b[32m      8\u001b[39m \u001b[38;5;66;03m# Llamada a la funcion\u001b[39;00m\n\u001b[32m      9\u001b[39m segundos_a_horas(segundos) \n",
      "\u001b[31mValueError\u001b[39m: invalid literal for int() with base 10: ''"
     ]
    }
   ],
   "source": [
    "def segundos_a_horas(segundos):\n",
    "    # Operacion\n",
    "    horas = segundos / 3600\n",
    "\n",
    "    # Devolucion del resultado\n",
    "    print(f\"Segundos pasado a horas: {horas}\")\n",
    "\n",
    "# Se pide el valor en segundos\n",
    "segundos = int(input(\"Introduzca los segundos a convertir en horas\"))\n",
    "\n",
    "# Llamada a la funcion\n",
    "segundos_a_horas(segundos) "
   ]
  },
  {
   "cell_type": "markdown",
   "metadata": {},
   "source": [
    "6.  Crear una función llamada tabla_multiplicar(numero) que reciba un número como parámetro y imprima la tabla de multiplicar de ese número del 1 al 10.\n",
    "    Pedir al usuario el número y llamar a la función."
   ]
  },
  {
   "cell_type": "code",
   "execution_count": null,
   "metadata": {},
   "outputs": [
    {
     "ename": "ValueError",
     "evalue": "invalid literal for int() with base 10: ''",
     "output_type": "error",
     "traceback": [
      "\u001b[31m---------------------------------------------------------------------------\u001b[39m",
      "\u001b[31mValueError\u001b[39m                                Traceback (most recent call last)",
      "\u001b[36mCell\u001b[39m\u001b[36m \u001b[39m\u001b[32mIn[12]\u001b[39m\u001b[32m, line 7\u001b[39m\n\u001b[32m      4\u001b[39m         \u001b[38;5;28mprint\u001b[39m(\u001b[33mf\u001b[39m\u001b[33m\"\u001b[39m\u001b[33mEl número multiplicado por \u001b[39m\u001b[38;5;132;01m{\u001b[39;00mi\u001b[38;5;132;01m}\u001b[39;00m\u001b[33m es: \u001b[39m\u001b[38;5;132;01m{\u001b[39;00mmultiplicacion\u001b[38;5;132;01m}\u001b[39;00m\u001b[33m\"\u001b[39m)\n\u001b[32m      6\u001b[39m \u001b[38;5;66;03m# Se pide el número\u001b[39;00m\n\u001b[32m----> \u001b[39m\u001b[32m7\u001b[39m numero = \u001b[38;5;28;43mint\u001b[39;49m\u001b[43m(\u001b[49m\u001b[38;5;28;43minput\u001b[39;49m\u001b[43m(\u001b[49m\u001b[33;43m\"\u001b[39;49m\u001b[33;43mIntroduzca un número a multiplicar\u001b[39;49m\u001b[33;43m\"\u001b[39;49m\u001b[43m)\u001b[49m\u001b[43m)\u001b[49m\n\u001b[32m      8\u001b[39m tabla_multiplicar(numero)\n",
      "\u001b[31mValueError\u001b[39m: invalid literal for int() with base 10: ''"
     ]
    }
   ],
   "source": [
    "def tabla_multiplicar(numero):\n",
    "    # Operacion de multiplicacion\n",
    "    for i in range(1, 11):\n",
    "        multiplicacion = numero * i\n",
    "        \n",
    "        # Devolucion del resultado\n",
    "        print(f\"El número multiplicado por {i} es: {multiplicacion}\")\n",
    "\n",
    "# Se pide el número\n",
    "numero = int(input(\"Introduzca un número a multiplicar\"))\n",
    "\n",
    "# Llamada a la funcion\n",
    "tabla_multiplicar(numero)"
   ]
  },
  {
   "cell_type": "markdown",
   "metadata": {},
   "source": [
    "7. Crear una función llamada operaciones_basicas(a, b) que reciba dos números como parámetros y devuelva una tupla con el resultado de sumarlos, restarlos, multiplicarlos y dividirlos. Mostrar los resultados de forma clara."
   ]
  },
  {
   "cell_type": "code",
   "execution_count": null,
   "metadata": {},
   "outputs": [
    {
     "name": "stdout",
     "output_type": "stream",
     "text": [
      "(4.0, 0.0, 4.0, 1.0)\n"
     ]
    }
   ],
   "source": [
    "def operaciones_basicas(a, b):\n",
    "    # Operaciones\n",
    "    suma = a + b\n",
    "    resta = a - b\n",
    "    multiplicacion = a * b\n",
    "    division = a / b if b != 0 else None\n",
    "    \n",
    "    # Devolucion del resultado\n",
    "    return (suma, resta, multiplicacion, division)\n",
    "\n",
    "# Pedimos los números\n",
    "a = float(input(\"Introduce el primer número: \"))\n",
    "b = float(input(\"Introduce el segundo número: \"))\n",
    "\n",
    "# Llamamos a la función y guardamos los resultados\n",
    "resultados = operaciones_basicas(a, b)\n",
    "\n",
    "# Tupla\n",
    "print(resultados)\n"
   ]
  },
  {
   "cell_type": "markdown",
   "metadata": {},
   "source": [
    "8.  Crear una función llamada calcular_imc(peso, altura) que reciba el peso en kilogramos y la altura en metros, y devuelva el índice de masa corporal (IMC).\n",
    "    Solicitar al usuario los datos y llamar a la función para mostrar el resultado con dos decimales."
   ]
  },
  {
   "cell_type": "code",
   "execution_count": null,
   "metadata": {},
   "outputs": [
    {
     "name": "stdout",
     "output_type": "stream",
     "text": [
      "Tu IMC es: 32.15\n"
     ]
    }
   ],
   "source": [
    "def calcular_imc(peso, altura):\n",
    "    # Operacion\n",
    "    imc = peso / (altura ** 2)\n",
    "    \n",
    "    # Devolucion del resultado\n",
    "    return imc\n",
    "\n",
    "# Se piden los valores del usuario\n",
    "peso = float(input(\"Introduzca su peso en kilogramos\"))\n",
    "altura = float(input(\"Introduzca su altura en metros\"))\n",
    "\n",
    "# Llamado de la funcion\n",
    "imc = calcular_imc(peso, altura)\n",
    "print(f\"Tu IMC es: {imc:.2f}\")"
   ]
  },
  {
   "cell_type": "markdown",
   "metadata": {},
   "source": [
    "9.  Crear una función llamada celsius_a_fahrenheit(celsius) que reciba una temperatura en grados Celsius y devuelva su equivalente en Fahrenheit.\n",
    "    Pedir al usuario la temperatura en Celsius y mostrar el resultado usando la función.\n"
   ]
  },
  {
   "cell_type": "code",
   "execution_count": 15,
   "metadata": {},
   "outputs": [
    {
     "name": "stdout",
     "output_type": "stream",
     "text": [
      "10.0 °C equivalen a 50.00 °F\n"
     ]
    }
   ],
   "source": [
    "def celsius_a_fahrenheit(celsius):\n",
    "    # Operacion\n",
    "    fahrenheit = (celsius * 9/5) + 32\n",
    "\n",
    "    # Devolucion del resultado\n",
    "    return fahrenheit\n",
    "\n",
    "# Pedir al usuario la temperatura en Celsius\n",
    "c = float(input(\"Introduce la temperatura en grados Celsius: \"))\n",
    "\n",
    "# Llamada a la funcion para guardar el valor en una variable\n",
    "f = celsius_a_fahrenheit(c)\n",
    "\n",
    "# Datos enviados al usuario\n",
    "print(f\"{c} °C equivalen a {f:.2f} °F\")"
   ]
  },
  {
   "cell_type": "markdown",
   "metadata": {},
   "source": [
    "10. Crear una función llamada calcular_promedio(a, b, c) que reciba tres números como parámetros y devuelva el promedio de ellos.\n",
    "    Solicitar los números al usuario y mostrar el resultado usando esta función."
   ]
  },
  {
   "cell_type": "code",
   "execution_count": 17,
   "metadata": {},
   "outputs": [
    {
     "name": "stdout",
     "output_type": "stream",
     "text": [
      "El promedio de los tres números es: 6.33\n"
     ]
    }
   ],
   "source": [
    "def calcular_promedio(a, b, c):\n",
    "    promedio = (a + b + c) / 3\n",
    "    return promedio\n",
    "\n",
    "# Solicitar los números al usuario en un ciclo\n",
    "numeros = []\n",
    "for i in range(3):\n",
    "    numero = float(input(f\"Introduce el número {i + 1}: \"))\n",
    "    numeros.append(numero)\n",
    "\n",
    "# Calcular el promedio usando la función\n",
    "promedio = calcular_promedio(numeros[0], numeros[1], numeros[2])\n",
    "\n",
    "# Mostrar el resultado\n",
    "print(f\"El promedio de los tres números es: {promedio:.2f}\")"
   ]
  }
 ],
 "metadata": {
  "kernelspec": {
   "display_name": "Python 3",
   "language": "python",
   "name": "python3"
  },
  "language_info": {
   "codemirror_mode": {
    "name": "ipython",
    "version": 3
   },
   "file_extension": ".py",
   "mimetype": "text/x-python",
   "name": "python",
   "nbconvert_exporter": "python",
   "pygments_lexer": "ipython3",
   "version": "3.13.2"
  }
 },
 "nbformat": 4,
 "nbformat_minor": 2
}
