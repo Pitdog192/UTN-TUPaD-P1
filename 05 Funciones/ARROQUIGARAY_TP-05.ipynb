{
 "cells": [
  {
   "cell_type": "markdown",
   "id": "8df4c40e",
   "metadata": {},
   "source": [
    "1) Crear una lista con los números del 1 al 100 que sean múltiplos de 4. Utilizar la función range."
   ]
  },
  {
   "cell_type": "code",
   "execution_count": 2,
   "id": "1f1e3cde",
   "metadata": {},
   "outputs": [
    {
     "name": "stdout",
     "output_type": "stream",
     "text": [
      "[0, 4, 8, 12, 16, 20, 24, 28, 32, 36, 40, 44, 48, 52, 56, 60, 64, 68, 72, 76, 80, 84, 88, 92, 96]\n"
     ]
    }
   ],
   "source": [
    "lista = list(range(0,100,4))\n",
    "print(lista)"
   ]
  },
  {
   "cell_type": "markdown",
   "id": "8b823e1a",
   "metadata": {},
   "source": [
    "2) Crear una lista con cinco elementos (colocar los elementos que más te gusten) y mostrar el penúltimo. \n",
    "¡Puedes hacerlo como se muestra en los videos o bien investigar cómo funciona el indexing con números negativos!\n"
   ]
  },
  {
   "cell_type": "code",
   "execution_count": 7,
   "id": "efb11e5c",
   "metadata": {},
   "outputs": [
    {
     "name": "stdout",
     "output_type": "stream",
     "text": [
      "True\n"
     ]
    }
   ],
   "source": [
    "lista = [4, \"Hola\", 5.6, True, [1,2,3]]\n",
    "print(lista[-2])"
   ]
  },
  {
   "cell_type": "markdown",
   "id": "7dfb3fa2",
   "metadata": {},
   "source": [
    "3) Crear una lista vacía, agregar tres palabras con append e imprimir la lista resultante por pantalla. \n",
    "Pista: para crear una lista vacía debes colocar los corchetes sin nada en su interior. Por ejemplo: lista_vacia = []"
   ]
  },
  {
   "cell_type": "code",
   "execution_count": 8,
   "id": "e5ff0e1b",
   "metadata": {},
   "outputs": [
    {
     "name": "stdout",
     "output_type": "stream",
     "text": [
      "['Hola', 'Mundo', '!']\n"
     ]
    }
   ],
   "source": [
    "lista =[]\n",
    "lista.append(\"Hola\")\n",
    "lista.append(\"Mundo\")\n",
    "lista.append(\"!\")\n",
    "print(lista)"
   ]
  },
  {
   "cell_type": "markdown",
   "id": "ad52c478",
   "metadata": {},
   "source": [
    "4) Reemplazar el segundo y último valor de la lista “animales” con las palabras “loro” y “oso”, respectivamente. \n",
    "Imprimir la lista resultante por pantalla. ¡Puedes hacerlo como se muestra en los videos o bien investigar cómo funciona el indexing con números negativos!\n",
    "animales = [\"perro\", \"gato\", \"conejo\", \"pez\"]\n"
   ]
  },
  {
   "cell_type": "code",
   "execution_count": 9,
   "id": "2d2c1593",
   "metadata": {},
   "outputs": [
    {
     "name": "stdout",
     "output_type": "stream",
     "text": [
      "['perro', 'loro', 'conejo', 'oso']\n"
     ]
    }
   ],
   "source": [
    "animales = [\"perro\", \"gato\", \"conejo\", \"pez\"]\n",
    "animales[1] = \"loro\"\n",
    "animales[-1] = \"oso\"\n",
    "print(animales)"
   ]
  },
  {
   "cell_type": "markdown",
   "id": "cf639c2c",
   "metadata": {},
   "source": [
    "5) Analizar el siguiente programa y explicar con tus palabras qué es lo que realiza."
   ]
  },
  {
   "cell_type": "code",
   "execution_count": 11,
   "id": "91a991b7",
   "metadata": {},
   "outputs": [
    {
     "name": "stdout",
     "output_type": "stream",
     "text": [
      "[8, 15, 3, 7]\n",
      "Entiendo que borra de la lista el valor númerico de mayor valor\n"
     ]
    }
   ],
   "source": [
    "numeros = [8, 15, 3, 22, 7]\n",
    "numeros.remove(max(numeros))\n",
    "print(numeros)\n",
    "print(\"Entiendo que borra de la lista el valor númerico de mayor valor\")"
   ]
  },
  {
   "cell_type": "markdown",
   "id": "ececba3b",
   "metadata": {},
   "source": [
    "6) Crear una lista con números del 10 al 30 (incluído), haciendo saltos de 5 en 5 y mostrar por pantalla los dos primeros.\n"
   ]
  },
  {
   "cell_type": "code",
   "execution_count": 14,
   "id": "c71f331c",
   "metadata": {},
   "outputs": [
    {
     "name": "stdout",
     "output_type": "stream",
     "text": [
      "10,15\n",
      "[10, 15, 20, 25, 30]\n"
     ]
    }
   ],
   "source": [
    "lista = list(range(10,31,5))\n",
    "print(f'{lista[0]},{lista[1]}')\n",
    "print(lista)"
   ]
  },
  {
   "cell_type": "markdown",
   "id": "7f90a73c",
   "metadata": {},
   "source": [
    "7) Reemplazar los dos valores centrales (índices 1 y 2) de la lista “autos” por dos nuevos valores cualesquiera.\n",
    "autos = [\"sedan\", \"polo\", \"suran\", \"gol\"]\n"
   ]
  },
  {
   "cell_type": "code",
   "execution_count": 15,
   "id": "21bbe754",
   "metadata": {},
   "outputs": [
    {
     "name": "stdout",
     "output_type": "stream",
     "text": [
      "['sedan', 'fiesta', 'sandero', 'gol']\n"
     ]
    }
   ],
   "source": [
    "autos = [\"sedan\", \"polo\", \"suran\", \"gol\"]\n",
    "autos[1] = \"fiesta\"\n",
    "autos[2] = \"sandero\"\n",
    "print(autos)"
   ]
  },
  {
   "cell_type": "markdown",
   "id": "a202228f",
   "metadata": {},
   "source": [
    "8) Crear una lista vacía llamada \"dobles\" y agregar el doble de 5, 10 y 15 usando append directamente.\n",
    "Imprimir la lista resultante por pantalla.\n"
   ]
  },
  {
   "cell_type": "code",
   "execution_count": 20,
   "id": "a5795ce0",
   "metadata": {},
   "outputs": [
    {
     "name": "stdout",
     "output_type": "stream",
     "text": [
      "[5, 10, 15]\n"
     ]
    }
   ],
   "source": [
    "dobles = []\n",
    "for i in range(1, 4):\n",
    "    dobles.append(5 * i)\n",
    "print(dobles)"
   ]
  },
  {
   "cell_type": "markdown",
   "id": "c3dccc7b",
   "metadata": {},
   "source": [
    "9) Dada la lista “compras”, cuyos elementos representan los productos comprados por diferentes clientes:\n",
    "compras = [[\"pan\", \"leche\"], [\"arroz\", \"fideos\", \"salsa\"], [\"agua\"]]\n",
    "a) Agregar \"jugo\" a la lista del tercer cliente usando append.\n",
    "b) Reemplazar \"fideos\" por \"tallarines\" en la lista del segundo cliente.\n",
    "c) Eliminar \"pan\" de la lista del primer cliente.\n",
    "d) Imprimir la lista resultante por pantalla"
   ]
  },
  {
   "cell_type": "code",
   "execution_count": 23,
   "id": "7a7b6431",
   "metadata": {},
   "outputs": [
    {
     "name": "stdout",
     "output_type": "stream",
     "text": [
      "[['leche'], ['arroz', 'tallarines', 'salsa'], ['agua', 'jugo']]\n"
     ]
    }
   ],
   "source": [
    "compras = [[\"pan\", \"leche\"], [\"arroz\", \"fideos\", \"salsa\"], [\"agua\"]]\n",
    "compras[2].append(\"jugo\")\n",
    "compras[1][1] = \"tallarines\"\n",
    "compras[0].remove(\"pan\")\n",
    "print(compras)"
   ]
  },
  {
   "cell_type": "markdown",
   "id": "d9521cc0",
   "metadata": {},
   "source": [
    "10) Elaborar una lista anidada llamada “lista_anidada” que contenga los siguientes elementos:\n",
    "● Posición lista_anidada[0]: 15\n",
    "● Posición lista_anidada[1]: True\n",
    "● Posición lista_anidada[2][0]: 25.5\n",
    "● Posición lista_anidada[2][1]: 57.9\n",
    "● Posición lista_anidada[2][2]: 30.6\n",
    "● Posición lista_anidada[3]: False\n",
    "Imprimir la lista resultante por pantalla.\n"
   ]
  },
  {
   "cell_type": "code",
   "execution_count": 29,
   "id": "9dd32903",
   "metadata": {},
   "outputs": [
    {
     "name": "stdout",
     "output_type": "stream",
     "text": [
      "[15, True, [25.5, 57.9, 30.6], False]\n"
     ]
    }
   ],
   "source": [
    "lista_anidada = []\n",
    "lista_anidada.append(15)\n",
    "lista_anidada.append(True)\n",
    "lista_anidada.append([25.5, 57.9, 30.6])\n",
    "lista_anidada.append(False)\n",
    "print(lista_anidada)"
   ]
  }
 ],
 "metadata": {
  "kernelspec": {
   "display_name": "Python 3",
   "language": "python",
   "name": "python3"
  },
  "language_info": {
   "codemirror_mode": {
    "name": "ipython",
    "version": 3
   },
   "file_extension": ".py",
   "mimetype": "text/x-python",
   "name": "python",
   "nbconvert_exporter": "python",
   "pygments_lexer": "ipython3",
   "version": "3.13.2"
  }
 },
 "nbformat": 4,
 "nbformat_minor": 5
}
